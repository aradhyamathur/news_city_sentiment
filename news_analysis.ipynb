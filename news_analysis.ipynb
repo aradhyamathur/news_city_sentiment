{
 "cells": [
  {
   "cell_type": "code",
   "execution_count": 47,
   "metadata": {
    "collapsed": true
   },
   "outputs": [],
   "source": [
    "import os\n",
    "from sklearn.feature_extraction.text import TfidfVectorizer\n",
    "from sklearn.feature_extraction.text import ENGLISH_STOP_WORDS\n",
    "import numpy as np\n",
    "import pandas as pd\n",
    "from sklearn.model_selection import train_test_split\n",
    "import matplotlib.pyplot as plt\n",
    "from matplotlib import style\n",
    "import torch\n",
    "import torch.nn as nn\n",
    "import torch.nn.functional as F\n",
    "from torch.autograd import Variable\n",
    "import os\n",
    "style.use('ggplot')"
   ]
  },
  {
   "cell_type": "markdown",
   "metadata": {},
   "source": [
    "### Prepare Dataset"
   ]
  },
  {
   "cell_type": "code",
   "execution_count": 14,
   "metadata": {},
   "outputs": [
    {
     "name": "stdout",
     "output_type": "stream",
     "text": [
      "Docs prep....\n",
      "Vectorize...\n",
      "Vectorization done\n",
      "(25000, 250)\n",
      "(25000, 250)\n"
     ]
    }
   ],
   "source": [
    "\n",
    "my_word = ENGLISH_STOP_WORDS \n",
    "\n",
    "POS_TRAIN_PATH = './dataset/aclImdb/train/pos/'\n",
    "NEG_TRAIN_PATH = './dataset/aclImdb/train/neg/'\n",
    "pos_files = os.listdir(POS_TRAIN_PATH)\n",
    "neg_files = os.listdir(NEG_TRAIN_PATH)\n",
    "print('Docs prep....')\n",
    "\n",
    "pos_lines = []\n",
    "neg_lines = []\n",
    "for file in pos_files:\n",
    "    with open(POS_TRAIN_PATH + file) as f:\n",
    "        lines = f.readlines()\n",
    "        lines = [line.strip() for line in lines if line.strip()]\n",
    "        pos_lines.extend(lines)\n",
    "for file in neg_files:\n",
    "    with open(NEG_TRAIN_PATH + file) as f:\n",
    "        lines = f.readlines()\n",
    "        lines = [line.strip() for line in lines if line.strip()]\n",
    "        neg_lines.extend(lines)\n",
    "\n",
    "docs = []\n",
    "docs.extend(pos_lines)\n",
    "docs.extend(neg_lines)\n",
    "print('Vectorize...')\n",
    "vectorizer2 = TfidfVectorizer(stop_words=my_word, max_features=250)\n",
    "vectorizer2.fit(docs)\n",
    "print('Vectorization done')\n",
    "\n",
    "input_data2 = vectorizer2.transform(docs).todense()\n",
    "print(input_data2.shape)\n",
    "df2 = pd.DataFrame(input_data2)\n",
    "\n",
    "pos_labels = np.zeros(len(pos_lines))\n",
    "neg_labels = np.ones(len(neg_lines))\n",
    "\n",
    "labels2 = []\n",
    "labels2 = np.append(pos_labels, neg_labels)\n",
    "df2['labels'] = labels2\n",
    "# df2.to_csv('data/aclImdb/processed_input_labelled3.csv')\n",
    "\n",
    "pos_labels = np.zeros(len(pos_lines))\n",
    "neg_labels = np.ones(len(neg_lines))\n",
    "\n",
    "X = df2.drop('labels', axis=1)\n",
    "X = np.array(X)\n",
    "print(X.shape)\n",
    "\n",
    "X_train, X_test, y_train, y_test = train_test_split(X, df2['labels'], random_state=20)\n",
    "\n",
    "\n"
   ]
  },
  {
   "cell_type": "markdown",
   "metadata": {},
   "source": [
    "### Save Vectorizer"
   ]
  },
  {
   "cell_type": "code",
   "execution_count": 53,
   "metadata": {},
   "outputs": [
    {
     "data": {
      "text/plain": [
       "['./models/vectorizer.pkl']"
      ]
     },
     "execution_count": 53,
     "metadata": {},
     "output_type": "execute_result"
    }
   ],
   "source": [
    "from sklearn.externals import joblib\n",
    "joblib.dump(vectorizer2, './models/vectorizer.pkl')"
   ]
  },
  {
   "cell_type": "markdown",
   "metadata": {},
   "source": [
    "### Create NN"
   ]
  },
  {
   "cell_type": "code",
   "execution_count": 15,
   "metadata": {},
   "outputs": [
    {
     "name": "stdout",
     "output_type": "stream",
     "text": [
      "SimpleNN (\n",
      "  (ln0): Linear (250 -> 15)\n",
      "  (ln1): Linear (15 -> 2)\n",
      ")\n"
     ]
    }
   ],
   "source": [
    "class SimpleNN(nn.Module):\n",
    "    def __init__(self, input_size, output_size):\n",
    "        super(SimpleNN, self).__init__()\n",
    "        self.ln0 = nn.Linear(input_size, 15)\n",
    "        self.ln1 = nn.Linear(15, output_size)\n",
    "        \n",
    "\n",
    "    def forward(self, x):\n",
    "        output = F.relu(self.ln0(x))\n",
    "        output = F.tanh(self.ln1(output))\n",
    "        return output\n",
    "print(SimpleNN(X_train.shape[1],2))\n"
   ]
  },
  {
   "cell_type": "markdown",
   "metadata": {},
   "source": [
    "### Train and Evaluate"
   ]
  },
  {
   "cell_type": "code",
   "execution_count": 36,
   "metadata": {},
   "outputs": [
    {
     "name": "stdout",
     "output_type": "stream",
     "text": [
      "SimpleNN (\n",
      "  (ln0): Linear (250 -> 15)\n",
      "  (ln1): Linear (15 -> 2)\n",
      ")\n",
      "Epoch 0 loss 0.7000580430030823\n",
      "Test acc: 0.56368\n",
      "Epoch 10 loss 0.5386714935302734\n",
      "Test acc: 0.74464\n",
      "Epoch 20 loss 0.47444796562194824\n",
      "Test acc: 0.79376\n",
      "Epoch 30 loss 0.45913681387901306\n",
      "Test acc: 0.79456\n",
      "Epoch 40 loss 0.4506608843803406\n",
      "Test acc: 0.79984\n"
     ]
    },
    {
     "data": {
      "image/png": "[encoded data removed]",
      "text/plain": [
       "<matplotlib.figure.Figure at 0x7fefd2741470>"
      ]
     },
     "metadata": {},
     "output_type": "display_data"
    },
    {
     "data": {
      "image/png": "[encoded data removed]",
      "text/plain": [
       "<matplotlib.figure.Figure at 0x7fefd2a9dba8>"
      ]
     },
     "metadata": {},
     "output_type": "display_data"
    },
    {
     "name": "stdout",
     "output_type": "stream",
     "text": [
      "Final Test accuracy 0.804\n"
     ]
    }
   ],
   "source": [
    "net = SimpleNN(X_train.shape[1], 2)\n",
    "print(net)\n",
    "\n",
    "def evaluate(X_test,y_test):\n",
    "    total = len(X_test)\n",
    "    correct = 0.0\n",
    "    net.eval()\n",
    "\n",
    "    for val_x, val_y in zip(X_test, y_test):\n",
    "\n",
    "        t_x = np.array(val_x).astype(np.float32)\n",
    "        output = net(Variable(torch.from_numpy(np.array([t_x]))))[0]\n",
    "\n",
    "        out = output.data.numpy()\n",
    "        if val_y == 0:\n",
    "\n",
    "            if not np.argmax(out):\n",
    "                correct += 1\n",
    "\n",
    "\n",
    "        if val_y == 1:\n",
    "\n",
    "            if np.argmax(out):\n",
    "                correct += 1\n",
    "\n",
    "#     print('Test accuracy %.3f' % (correct / total))\n",
    "    return correct / total\n",
    "\n",
    "epochs = 50\n",
    "learning_rate = 5e-2\n",
    "criterion = nn.CrossEntropyLoss()\n",
    "optimizer = torch.optim.Adagrad(net.parameters(), lr=learning_rate)\n",
    "losses = []\n",
    "acc = []\n",
    "epoch_ = []\n",
    "for epoch in range(epochs):\n",
    "    net.train()\n",
    "    inputs = Variable(torch.from_numpy(np.array(X_train).astype(np.float32)))\n",
    "    targets = Variable(torch.from_numpy(np.array(y_train).astype(np.float32)).long())\n",
    "    optimizer.zero_grad()\n",
    "    outputs = net(inputs)\n",
    "    loss = criterion(outputs, targets)\n",
    "    loss.backward()\n",
    "    optimizer.step()\n",
    "    \n",
    "        \n",
    "    if epoch % 10 == 0:\n",
    "        print('Epoch %d loss %s' % (epoch, loss.data[0]))\n",
    "        test_acc = evaluate(X_test, y_test)\n",
    "        acc.append(test_acc)\n",
    "        print('Test acc:', test_acc)\n",
    "\n",
    "    losses.append(loss.data[0])\n",
    "\n",
    "plt.title('Loss vs Epoch')\n",
    "plt.xlabel('epoch')\n",
    "plt.ylabel('loss')\n",
    "plt.plot(losses)\n",
    "plt.show()\n",
    "\n",
    "plt.title('Accuracy vs Epoch')\n",
    "plt.xlabel('epoch')\n",
    "plt.ylabel('Test Acc.')\n",
    "plt.plot(acc)\n",
    "plt.show()\n",
    "\n",
    "print('Final Test accuracy %.3f' % evaluate(X_test, y_test))\n",
    "\n"
   ]
  },
  {
   "cell_type": "markdown",
   "metadata": {},
   "source": [
    "### SAVE MODEL"
   ]
  },
  {
   "cell_type": "code",
   "execution_count": 39,
   "metadata": {
    "collapsed": true
   },
   "outputs": [],
   "source": [
    "MODELS_DIR = './models'\n",
    "if not os.path.exists(MODELS_DIR):\n",
    "    os.makedirs(MODELS_DIR)\n",
    "torch.save(net.state_dict(), MODELS_DIR + '/sentiment.pt')"
   ]
  },
  {
   "cell_type": "markdown",
   "metadata": {
    "collapsed": true
   },
   "source": [
    "### Load Model"
   ]
  },
  {
   "cell_type": "code",
   "execution_count": 55,
   "metadata": {
    "collapsed": true
   },
   "outputs": [],
   "source": [
    "vectorizer = joblib.load('./models/vectorizer.pkl')"
   ]
  },
  {
   "cell_type": "code",
   "execution_count": 48,
   "metadata": {},
   "outputs": [],
   "source": [
    "model = SimpleNN(250, 2)\n",
    "model.load_state_dict(torch.load('./models/sentiment.pth'))"
   ]
  },
  {
   "cell_type": "code",
   "execution_count": 80,
   "metadata": {},
   "outputs": [
    {
     "name": "stdout",
     "output_type": "stream",
     "text": [
      "Positive\n",
      "Negative\n"
     ]
    }
   ],
   "source": [
    "\n",
    "def test_line(line, vectorizer, model):\n",
    "    \n",
    "    t_x = vectorizer.transform([line]).todense().astype(np.float32)\n",
    "\n",
    "    t_x = np.array([t_x]).reshape(1,-1)\n",
    "\n",
    "    model.eval()\n",
    "    out = model(Variable(torch.from_numpy(t_x)))\n",
    "    val = out.data.numpy()\n",
    "\n",
    "    \n",
    "    if not np.argmax(val):\n",
    "        return 'Positive'\n",
    "    elif np.argmax(val):\n",
    "        return 'Negative'\n",
    "    \n",
    "print(test_line('Gov to create new policies for the betterment of farmers', vectorizer, model))\n",
    "print(test_line('2 people killed in plane crash',vectorizer, model))"
   ]
  },
  {
   "cell_type": "code",
   "execution_count": null,
   "metadata": {
    "collapsed": true
   },
   "outputs": [],
   "source": []
  },
  {
   "cell_type": "code",
   "execution_count": 69,
   "metadata": {
    "collapsed": true
   },
   "outputs": [],
   "source": [
    "from bs4 import BeautifulSoup\n",
    "from urllib.request import urlopen\n",
    "import pandas as pd\n"
   ]
  },
  {
   "cell_type": "code",
   "execution_count": 70,
   "metadata": {
    "collapsed": true
   },
   "outputs": [],
   "source": [
    "class Crawler(object):\n",
    "    \n",
    "    def __init__(self, url:str,path_to_save:str):\n",
    "        self.url = url\n",
    "        self.bsObj = None\n",
    "        self.links = None\n",
    "        self.path  = path_to_save + '.txt'\n",
    "    \n",
    "    def crawl(self)->list:\n",
    "        self.bsObj = BeautifulSoup(urlopen(self.url), 'html.parser')\n",
    "        links = []\n",
    "        for value in self.bsObj.find_all('div', {'class':'media-body'}):\n",
    "\n",
    "            links.append((value.find('span',{\"class\":\"time-dt\"}).text,value.find('a').attrs['href'],value.find('a').text))\n",
    "        self.links = links\n",
    "        return self.links\n",
    "    \n",
    "    def save(self)->None:\n",
    "        if self.path:\n",
    "            if self.links:\n",
    "                df = pd.DataFrame(self.links)\n",
    "                df.to_csv(self.path)\n",
    "            else:\n",
    "                print('Crawl before save')\n",
    "        else:\n",
    "            print('Select path to save')\n",
    "    \n",
    "    def get_article(self, link:str, path:str):\n",
    "        self.bsObj = BeautifulSoup(urlopen(link))\n",
    "        \n"
   ]
  },
  {
   "cell_type": "code",
   "execution_count": 95,
   "metadata": {},
   "outputs": [
    {
     "name": "stdout",
     "output_type": "stream",
     "text": [
      "Crawling articles of delhi-news.....\n",
      "Crawling articles of kolkata.....\n",
      "Crawling articles of mumbai.....\n",
      "Crawling articles of pune-news.....\n",
      "Crawling articles of lucknow.....\n",
      "Crawling articles of mumbai-news.....\n"
     ]
    }
   ],
   "source": [
    "\n",
    "CITIES = ['delhi-news','kolkata', 'mumbai', 'pune-news', 'lucknow', 'mumbai-news']\n",
    "url = 'http://www.hindustantimes.com/'\n",
    "if not os.path.exists('./links'):\n",
    "    os.makedirs('./links/')\n",
    "ARTICLE_DIR = './articles/'\n",
    "data = []\n",
    "for city  in CITIES:\n",
    "    query_url = url+city\n",
    "    crawler = Crawler(query_url,'./links/'+city)\n",
    "    links = crawler.crawl()\n",
    "    print('Crawling articles of '+ city + '.....')\n",
    "#     print(links)\n",
    "\n",
    "    for link in links:\n",
    "#         print('*'*10)\n",
    "#         print(link)\n",
    "        bsobj = BeautifulSoup(urlopen(link[1]),'html.parser')\n",
    "#         para = bsobj.find('div',{\"class\": \"story-details\"}).find_all('p')\n",
    "        para = bsobj.find_all('p')\n",
    "        para_text = ''\n",
    "        for text in para:\n",
    "            para_text += text.text\n",
    "        if not os.path.exists('articles'):\n",
    "            os.makedirs(ARTICLE_DIR)\n",
    "        \n",
    "        with open(ARTICLE_DIR+city+'.txt', 'a') as f:\n",
    "            f.writelines(para_text)\n",
    "            f.write('\\n*****\\n')\n",
    "    \n"
   ]
  },
  {
   "cell_type": "code",
   "execution_count": 96,
   "metadata": {},
   "outputs": [
    {
     "name": "stdout",
     "output_type": "stream",
     "text": [
      "Crawling articles of delhi-news.....\n",
      "48\n",
      "Crawling articles of kolkata.....\n",
      "48\n",
      "Crawling articles of mumbai.....\n",
      "48\n",
      "Crawling articles of pune-news.....\n",
      "48\n",
      "Crawling articles of lucknow.....\n",
      "48\n",
      "Crawling articles of mumbai-news.....\n",
      "48\n"
     ]
    }
   ],
   "source": [
    "for city  in CITIES:\n",
    "    query_url = url+city\n",
    "    crawler = Crawler(query_url,'./links/'+city)\n",
    "    links = crawler.crawl()\n",
    "    print('Crawling articles of '+ city + '.....')\n",
    "    print(len(links))\n",
    "    crawler.save()"
   ]
  },
  {
   "cell_type": "code",
   "execution_count": null,
   "metadata": {
    "collapsed": true
   },
   "outputs": [],
   "source": []
  },
  {
   "cell_type": "code",
   "execution_count": null,
   "metadata": {
    "collapsed": true
   },
   "outputs": [],
   "source": []
  },
  {
   "cell_type": "code",
   "execution_count": null,
   "metadata": {
    "collapsed": true
   },
   "outputs": [],
   "source": []
  },
  {
   "cell_type": "code",
   "execution_count": null,
   "metadata": {
    "collapsed": true
   },
   "outputs": [],
   "source": []
  },
  {
   "cell_type": "code",
   "execution_count": null,
   "metadata": {
    "collapsed": true
   },
   "outputs": [],
   "source": []
  },
  {
   "cell_type": "code",
   "execution_count": null,
   "metadata": {
    "collapsed": true
   },
   "outputs": [],
   "source": []
  },
  {
   "cell_type": "code",
   "execution_count": null,
   "metadata": {
    "collapsed": true
   },
   "outputs": [],
   "source": []
  }
 ],
 "metadata": {
  "kernelspec": {
   "display_name": "Python 3",
   "language": "python",
   "name": "python3"
  },
  "language_info": {
   "codemirror_mode": {
    "name": "ipython",
    "version": 3
   },
   "file_extension": ".py",
   "mimetype": "text/x-python",
   "name": "python",
   "nbconvert_exporter": "python",
   "pygments_lexer": "ipython3",
   "version": "3.6.1"
  }
 },
 "nbformat": 4,
 "nbformat_minor": 2
}
