{
 "cells": [
  {
   "cell_type": "code",
   "execution_count": 4,
   "metadata": {
    "collapsed": true
   },
   "outputs": [],
   "source": [
    "import os\n",
    "from sklearn.feature_extraction.text import TfidfVectorizer\n",
    "from sklearn.feature_extraction.text import ENGLISH_STOP_WORDS\n",
    "import numpy as np\n",
    "import pandas as pd\n",
    "from sklearn.model_selection import train_test_split\n",
    "import matplotlib.pyplot as plt\n",
    "from matplotlib import style\n",
    "import torch\n",
    "import torch.nn as nn\n",
    "import torch.nn.functional as F\n",
    "from torch.autograd import Variable\n",
    "import matplotlib.patches as mpatches\n",
    "import os\n",
    "from sklearn.externals import joblib\n",
    "style.use('ggplot')\n"
   ]
  },
  {
   "cell_type": "markdown",
   "metadata": {},
   "source": [
    "### Prepare Dataset"
   ]
  },
  {
   "cell_type": "code",
   "execution_count": 7,
   "metadata": {},
   "outputs": [
    {
     "name": "stdout",
     "output_type": "stream",
     "text": [
      "Docs prep....\n",
      "Vectorize...\n",
      "Vectorization done\n",
      "(25000, 300)\n",
      "(25000, 300)\n"
     ]
    }
   ],
   "source": [
    "\n",
    "my_word = ENGLISH_STOP_WORDS\n",
    "\n",
    "POS_TRAIN_PATH = './dataset/aclImdb/train/pos/'\n",
    "NEG_TRAIN_PATH = './dataset/aclImdb/train/neg/'\n",
    "pos_files = os.listdir(POS_TRAIN_PATH)\n",
    "neg_files = os.listdir(NEG_TRAIN_PATH)\n",
    "print('Docs prep....')\n",
    "\n",
    "pos_lines = []\n",
    "neg_lines = []\n",
    "for file in pos_files:\n",
    "    with open(POS_TRAIN_PATH + file) as f:\n",
    "        lines = f.readlines()\n",
    "        lines = [line.strip() for line in lines if line.strip()]\n",
    "        pos_lines.extend(lines)\n",
    "for file in neg_files:\n",
    "    with open(NEG_TRAIN_PATH + file) as f:\n",
    "        lines = f.readlines()\n",
    "        lines = [line.strip() for line in lines if line.strip()]\n",
    "        neg_lines.extend(lines)\n",
    "\n",
    "docs = []\n",
    "docs.extend(pos_lines)\n",
    "docs.extend(neg_lines)\n",
    "print('Vectorize...')\n",
    "vectorizer2 = TfidfVectorizer(stop_words=my_word, max_features=300)\n",
    "vectorizer2.fit(docs)\n",
    "print('Vectorization done')\n",
    "\n",
    "input_data2 = vectorizer2.transform(docs).todense()\n",
    "print(input_data2.shape)\n",
    "df2 = pd.DataFrame(input_data2)\n",
    "\n",
    "pos_labels = np.zeros(len(pos_lines))\n",
    "neg_labels = np.ones(len(neg_lines))\n",
    "\n",
    "labels2 = []\n",
    "labels2 = np.append(pos_labels, neg_labels)\n",
    "df2['labels'] = labels2\n",
    "# df2.to_csv('data/aclImdb/processed_input_labelled3.csv')\n",
    "\n",
    "pos_labels = np.zeros(len(pos_lines))\n",
    "neg_labels = np.ones(len(neg_lines))\n",
    "\n",
    "X = df2.drop('labels', axis=1)\n",
    "X = np.array(X)\n",
    "print(X.shape)\n",
    "\n",
    "X_train, X_test, y_train, y_test = train_test_split(X, df2['labels'], random_state=20)\n",
    "\n",
    "\n"
   ]
  },
  {
   "cell_type": "markdown",
   "metadata": {},
   "source": [
    "### Save Vectorizer"
   ]
  },
  {
   "cell_type": "code",
   "execution_count": 134,
   "metadata": {},
   "outputs": [
    {
     "data": {
      "text/plain": [
       "['./models/vectorizer.pkl']"
      ]
     },
     "execution_count": 134,
     "metadata": {},
     "output_type": "execute_result"
    }
   ],
   "source": [
    "if not os.path.exists('./models'):\n",
    "    os.makedirs('./models')\n",
    "joblib.dump(vectorizer2, './models/vectorizer.pkl')"
   ]
  },
  {
   "cell_type": "markdown",
   "metadata": {},
   "source": [
    "### Create NN"
   ]
  },
  {
   "cell_type": "code",
   "execution_count": 8,
   "metadata": {},
   "outputs": [
    {
     "name": "stdout",
     "output_type": "stream",
     "text": [
      "SimpleNN (\n",
      "  (ln0): Linear (300 -> 15)\n",
      "  (ln1): Linear (15 -> 2)\n",
      ")\n"
     ]
    }
   ],
   "source": [
    "class SimpleNN(nn.Module):\n",
    "    def __init__(self, input_size, output_size):\n",
    "        super(SimpleNN, self).__init__()\n",
    "        self.ln0 = nn.Linear(input_size, 15)\n",
    "        self.ln1 = nn.Linear(15, output_size)\n",
    "        \n",
    "\n",
    "    def forward(self, x):\n",
    "        output = F.relu(self.ln0(x))\n",
    "        output = F.tanh(self.ln1(output))\n",
    "        return output\n",
    "print(SimpleNN(X_train.shape[1],2))\n"
   ]
  },
  {
   "cell_type": "markdown",
   "metadata": {},
   "source": [
    "### Train and Evaluate"
   ]
  },
  {
   "cell_type": "code",
   "execution_count": 215,
   "metadata": {},
   "outputs": [
    {
     "name": "stdout",
     "output_type": "stream",
     "text": [
      "SimpleNN (\n",
      "  (ln0): Linear (300 -> 15)\n",
      "  (ln1): Linear (15 -> 2)\n",
      ")\n",
      "Epoch 0 loss 0.6939151883125305\n",
      "Test acc: 0.75184\n",
      "Epoch 10 loss 0.5168853402137756\n",
      "Test acc: 0.78464\n",
      "Epoch 20 loss 0.45991280674934387\n",
      "Test acc: 0.80672\n",
      "Epoch 30 loss 0.4393496811389923\n",
      "Test acc: 0.81456\n",
      "Epoch 40 loss 0.4294993579387665\n",
      "Test acc: 0.8168\n",
      "Epoch 50 loss 0.4242391884326935\n",
      "Test acc: 0.81504\n",
      "Epoch 60 loss 0.4187297224998474\n",
      "Test acc: 0.81664\n",
      "Epoch 70 loss 0.4145442843437195\n",
      "Test acc: 0.81744\n",
      "Epoch 80 loss 0.41179516911506653\n",
      "Test acc: 0.81712\n",
      "Epoch 90 loss 0.40946707129478455\n",
      "Test acc: 0.81792\n"
     ]
    },
    {
     "data": {
      "image/png": "[encoded data removed]",
      "text/plain": [
       "<matplotlib.figure.Figure at 0x7fefcb7d9e80>"
      ]
     },
     "metadata": {},
     "output_type": "display_data"
    },
    {
     "data": {
      "image/png": "[encoded data removed]",
      "text/plain": [
       "<matplotlib.figure.Figure at 0x7fefcb801cc0>"
      ]
     },
     "metadata": {},
     "output_type": "display_data"
    },
    {
     "name": "stdout",
     "output_type": "stream",
     "text": [
      "Final Test accuracy 0.820\n"
     ]
    }
   ],
   "source": [
    "net = SimpleNN(X_train.shape[1], 2)\n",
    "print(net)\n",
    "\n",
    "def evaluate(X_test,y_test):\n",
    "    total = len(X_test)\n",
    "    correct = 0.0\n",
    "    net.eval()\n",
    "\n",
    "    for val_x, val_y in zip(X_test, y_test):\n",
    "\n",
    "        t_x = np.array(val_x).astype(np.float32)\n",
    "        output = net(Variable(torch.from_numpy(np.array([t_x]))))[0]\n",
    "\n",
    "        out = output.data.numpy()\n",
    "        if val_y == 0:\n",
    "\n",
    "            if not np.argmax(out):\n",
    "                correct += 1\n",
    "\n",
    "\n",
    "        if val_y == 1:\n",
    "\n",
    "            if np.argmax(out):\n",
    "                correct += 1\n",
    "\n",
    "#     print('Test accuracy %.3f' % (correct / total))\n",
    "    return correct / total\n",
    "\n",
    "epochs = 100\n",
    "learning_rate = 5e-2\n",
    "criterion = nn.CrossEntropyLoss()\n",
    "optimizer = torch.optim.Adagrad(net.parameters(), lr=learning_rate)\n",
    "losses = []\n",
    "acc = []\n",
    "epoch_ = []\n",
    "for epoch in range(epochs):\n",
    "    net.train()\n",
    "    inputs = Variable(torch.from_numpy(np.array(X_train).astype(np.float32)))\n",
    "    targets = Variable(torch.from_numpy(np.array(y_train).astype(np.float32)).long())\n",
    "    optimizer.zero_grad()\n",
    "    outputs = net(inputs)\n",
    "    loss = criterion(outputs, targets)\n",
    "    loss.backward()\n",
    "    optimizer.step()\n",
    "    \n",
    "        \n",
    "    if epoch % 10 == 0:\n",
    "        print('Epoch %d loss %s' % (epoch, loss.data[0]))\n",
    "        test_acc = evaluate(X_test, y_test)\n",
    "        acc.append(test_acc)\n",
    "        print('Test acc:', test_acc)\n",
    "\n",
    "    losses.append(loss.data[0])\n",
    "\n",
    "plt.title('Loss vs Epoch')\n",
    "plt.xlabel('epoch')\n",
    "plt.ylabel('loss')\n",
    "plt.plot(losses)\n",
    "plt.show()\n",
    "\n",
    "plt.title('Accuracy vs Epoch')\n",
    "plt.xlabel('epoch')\n",
    "plt.ylabel('Test Acc.')\n",
    "plt.plot(acc)\n",
    "plt.show()\n",
    "\n",
    "print('Final Test accuracy %.3f' % evaluate(X_test, y_test))\n",
    "\n"
   ]
  },
  {
   "cell_type": "markdown",
   "metadata": {},
   "source": [
    "### SAVE MODEL"
   ]
  },
  {
   "cell_type": "code",
   "execution_count": 137,
   "metadata": {
    "collapsed": true
   },
   "outputs": [],
   "source": [
    "MODELS_DIR = './models'\n",
    "if not os.path.exists(MODELS_DIR):\n",
    "    os.makedirs(MODELS_DIR)\n",
    "torch.save(net.state_dict(), MODELS_DIR + '/sentiment.pt')"
   ]
  },
  {
   "cell_type": "markdown",
   "metadata": {
    "collapsed": true
   },
   "source": [
    "### Load Model"
   ]
  },
  {
   "cell_type": "code",
   "execution_count": 5,
   "metadata": {
    "collapsed": true
   },
   "outputs": [],
   "source": [
    "vectorizer = joblib.load('./models/vectorizer.pkl')"
   ]
  },
  {
   "cell_type": "code",
   "execution_count": 10,
   "metadata": {
    "collapsed": true
   },
   "outputs": [],
   "source": [
    "model = SimpleNN(300, 2)\n",
    "model.load_state_dict(torch.load('./models/sentiment.pt'))"
   ]
  },
  {
   "cell_type": "markdown",
   "metadata": {},
   "source": [
    "### TEST LINE"
   ]
  },
  {
   "cell_type": "code",
   "execution_count": 12,
   "metadata": {},
   "outputs": [
    {
     "name": "stdout",
     "output_type": "stream",
     "text": [
      "Positive\n",
      "Negative\n"
     ]
    }
   ],
   "source": [
    "\n",
    "def test_line(line, vectorizer, model):\n",
    "    \n",
    "    t_x = vectorizer.transform([line]).todense().astype(np.float32)\n",
    "\n",
    "    t_x = np.array([t_x]).reshape(1,-1)\n",
    "\n",
    "    model.eval()\n",
    "    out = model(Variable(torch.from_numpy(t_x)))\n",
    "    val = out.data.numpy()\n",
    "\n",
    "    \n",
    "    if not np.argmax(val):\n",
    "        return 'Positive'\n",
    "    elif np.argmax(val):\n",
    "        return 'Negative'\n",
    "    \n",
    "print(test_line('Gov to create new policies for the betterment of farmers', vectorizer, model))\n",
    "print(test_line('2 people died in plane crash',vectorizer, model))"
   ]
  },
  {
   "cell_type": "markdown",
   "metadata": {
    "collapsed": true
   },
   "source": [
    "### TIME TO CRAWL"
   ]
  },
  {
   "cell_type": "code",
   "execution_count": 71,
   "metadata": {
    "collapsed": true
   },
   "outputs": [],
   "source": [
    "from bs4 import BeautifulSoup\n",
    "from urllib.request import urlopen\n",
    "import pandas as pd\n"
   ]
  },
  {
   "cell_type": "code",
   "execution_count": 72,
   "metadata": {
    "collapsed": true
   },
   "outputs": [],
   "source": [
    "class Crawler(object):\n",
    "    \"\"\" Specifically for scraping from HT , since the url allows scraping  : respect robots.txt XD \"\"\"\n",
    "    \n",
    "    def __init__(self, url:str,path_to_save:str):\n",
    "        self.url = url\n",
    "        self.bsObj = None\n",
    "        self.links = None\n",
    "        self.path  = path_to_save + '.txt'\n",
    "    \n",
    "    def crawl(self)->list:\n",
    "        self.bsObj = BeautifulSoup(urlopen(self.url), 'html.parser')\n",
    "        links = []\n",
    "        for value in self.bsObj.find_all('div', {'class':'media-body'}):\n",
    "\n",
    "            links.append((value.find('span',{\"class\":\"time-dt\"}).text,value.find('a').attrs['href'],value.find('a').text))\n",
    "        self.links = links\n",
    "        return self.links\n",
    "    \n",
    "    def save(self)->None:\n",
    "        if self.path:\n",
    "            if self.links:\n",
    "                df = pd.DataFrame(self.links)\n",
    "                df.to_csv(self.path)\n",
    "            else:\n",
    "                print('Crawl before save')\n",
    "        else:\n",
    "            print('Select path to save')\n",
    "    \n",
    "    def get_article(self, link:str, path:str):\n",
    "        self.bsObj = BeautifulSoup(urlopen(link))\n",
    "        \n"
   ]
  },
  {
   "cell_type": "markdown",
   "metadata": {},
   "source": [
    "### SAVE ARTICLES"
   ]
  },
  {
   "cell_type": "code",
   "execution_count": 73,
   "metadata": {
    "collapsed": true
   },
   "outputs": [],
   "source": [
    "\n",
    "CITIES = ['delhi-news','kolkata', 'mumbai', 'pune-news', 'lucknow']\n",
    "SEPARATOR = '\\n*****\\n'"
   ]
  },
  {
   "cell_type": "code",
   "execution_count": 74,
   "metadata": {},
   "outputs": [
    {
     "name": "stdout",
     "output_type": "stream",
     "text": [
      "Crawling articles of delhi-news.....\n",
      "Crawling articles of kolkata.....\n",
      "Crawling articles of mumbai.....\n",
      "Crawling articles of pune-news.....\n",
      "Crawling articles of lucknow.....\n"
     ]
    }
   ],
   "source": [
    "\n",
    "url = 'http://www.hindustantimes.com/'\n",
    "if not os.path.exists('./links'):\n",
    "    os.makedirs('./links/')\n",
    "ARTICLE_DIR = './articles/'\n",
    "data = []\n",
    "for city  in CITIES:\n",
    "    query_url = url+city\n",
    "    crawler = Crawler(query_url,'./links/'+city)\n",
    "    links = crawler.crawl()\n",
    "    print('Crawling articles of '+ city + '.....')\n",
    "\n",
    "\n",
    "    for link in links:\n",
    "\n",
    "        bsobj = BeautifulSoup(urlopen(link[1]),'html.parser')\n",
    "\n",
    "        para = bsobj.find_all('p')\n",
    "        para_text = ''\n",
    "        for text in para:\n",
    "            para_text += text.text\n",
    "        if not os.path.exists('articles'):\n",
    "            os.makedirs(ARTICLE_DIR)\n",
    "        \n",
    "        with open(ARTICLE_DIR+city+'.txt', 'a') as f:\n",
    "            f.writelines(para_text)\n",
    "            f.write(SEPARATOR)\n",
    "    \n"
   ]
  },
  {
   "cell_type": "markdown",
   "metadata": {},
   "source": [
    "### SAVE TITLES\n"
   ]
  },
  {
   "cell_type": "code",
   "execution_count": 75,
   "metadata": {},
   "outputs": [
    {
     "name": "stdout",
     "output_type": "stream",
     "text": [
      "Crawling articles of delhi-news.....\n",
      "48\n",
      "Crawling articles of kolkata.....\n",
      "48\n",
      "Crawling articles of mumbai.....\n",
      "48\n",
      "Crawling articles of pune-news.....\n",
      "48\n",
      "Crawling articles of lucknow.....\n",
      "48\n"
     ]
    }
   ],
   "source": [
    "\"\"\"\n",
    "    should be combined with above but doing separately for readability and understanding\n",
    "\"\"\"\n",
    "for city  in CITIES:\n",
    "    query_url = url+city\n",
    "    crawler = Crawler(query_url,'./links/'+city)\n",
    "    links = crawler.crawl()\n",
    "    print('Crawling articles of '+ city + '.....')\n",
    "    print(len(links))\n",
    "    crawler.save()"
   ]
  },
  {
   "cell_type": "markdown",
   "metadata": {},
   "source": [
    "## Analysis"
   ]
  },
  {
   "cell_type": "markdown",
   "metadata": {},
   "source": [
    "#### Sentiment"
   ]
  },
  {
   "cell_type": "code",
   "execution_count": 35,
   "metadata": {
    "collapsed": true
   },
   "outputs": [],
   "source": [
    "delhi_df = pd.read_csv('./links/delhi-news.txt')\n",
    "delhi_df.columns = ['index', 'timestamp', 'link', 'title']\n",
    "\n"
   ]
  },
  {
   "cell_type": "code",
   "execution_count": 36,
   "metadata": {
    "collapsed": true
   },
   "outputs": [],
   "source": [
    "sentiment_vals = []\n",
    "\n",
    "for title in delhi_df['title']:\n",
    "    if test_line(title, vectorizer, model) == 'Positive':\n",
    "        sentiment_vals.append(1)\n",
    "    else:\n",
    "        sentiment_vals.append(0)\n",
    "\n",
    "delhi_df['sentiment'] = sentiment_vals"
   ]
  },
  {
   "cell_type": "code",
   "execution_count": 37,
   "metadata": {},
   "outputs": [
    {
     "data": {
      "text/plain": [
       "0.25"
      ]
     },
     "execution_count": 37,
     "metadata": {},
     "output_type": "execute_result"
    }
   ],
   "source": [
    "def percent_positive(df):\n",
    "    \"\"\"    Return percent positive\n",
    "          df: pd.DataFrame : link dataframe of city\n",
    "    \"\"\"\n",
    "    percent_positive = (df.sentiment.sum()/ len(df)*1.0 )\n",
    "    return (percent_positive)\n",
    "percent_positive(delhi_df)"
   ]
  },
  {
   "cell_type": "code",
   "execution_count": 38,
   "metadata": {
    "collapsed": true
   },
   "outputs": [],
   "source": [
    "def get_link_df(city:str):\n",
    "    \"\"\" Get link data frame for a particular city \"\"\"\n",
    "    _df = pd.read_csv('./links/'+city+'.txt')\n",
    "    _df.columns = ['index', 'timestamp', 'link', 'title']\n",
    "    return _df\n"
   ]
  },
  {
   "cell_type": "code",
   "execution_count": 39,
   "metadata": {
    "collapsed": true
   },
   "outputs": [],
   "source": [
    "def get_headline_sentiment(city:str)->pd.DataFrame:\n",
    "    \"\"\" Returns dataframe with sentiment corresponding to news titles \"\"\"\n",
    "    _df = pd.read_csv('./links/'+city+'.txt')\n",
    "    _df.columns = ['index', 'timestamp', 'link', 'title']\n",
    "    sentiment_vals = []\n",
    "\n",
    "    for title in _df['title']:\n",
    "        if test_line(title, vectorizer, model) == 'Positive':\n",
    "            sentiment_vals.append(1)\n",
    "        else:\n",
    "            sentiment_vals.append(0)\n",
    "\n",
    "    _df['sentiment'] = sentiment_vals\n",
    "    return _df"
   ]
  },
  {
   "cell_type": "markdown",
   "metadata": {
    "collapsed": true
   },
   "source": [
    "##### Find positive % percent for cities and analyse "
   ]
  },
  {
   "cell_type": "code",
   "execution_count": 40,
   "metadata": {
    "collapsed": true
   },
   "outputs": [],
   "source": [
    "df_list = [get_headline_sentiment(city) for city in CITIES]"
   ]
  },
  {
   "cell_type": "code",
   "execution_count": 41,
   "metadata": {
    "collapsed": true
   },
   "outputs": [],
   "source": [
    "sentiment = []\n",
    "for city_df in df_list:\n",
    "    sentiment.append(percent_positive(city_df))"
   ]
  },
  {
   "cell_type": "code",
   "execution_count": 42,
   "metadata": {},
   "outputs": [
    {
     "name": "stdout",
     "output_type": "stream",
     "text": [
      "[0.25, 0.22916666666666666, 0.4375, 0.25, 0.125]\n"
     ]
    }
   ],
   "source": [
    "print(sentiment)"
   ]
  },
  {
   "cell_type": "code",
   "execution_count": 43,
   "metadata": {},
   "outputs": [
    {
     "data": {
      "image/png": "[encoded data removed]",
      "text/plain": [
       "<matplotlib.figure.Figure at 0x7f54e1b14e80>"
      ]
     },
     "metadata": {},
     "output_type": "display_data"
    }
   ],
   "source": [
    "city_vals = [city.split('-')[0] for city in CITIES]\n",
    "city_index = [i for i in range(len(CITIES))]\n",
    "\n",
    "plt.title('Positivity')\n",
    "plt.xlabel('City')\n",
    "plt.ylabel('% Positive')\n",
    "plt.bar(city_index, sentiment)\n",
    "plt.xticks(city_index, city_vals)\n",
    "plt.ylim((0.0, 1.0))\n",
    "plt.show()"
   ]
  },
  {
   "cell_type": "code",
   "execution_count": 44,
   "metadata": {
    "collapsed": true
   },
   "outputs": [],
   "source": [
    "SEPARATOR = '\\n*****\\n'"
   ]
  },
  {
   "cell_type": "code",
   "execution_count": 45,
   "metadata": {
    "collapsed": true
   },
   "outputs": [],
   "source": [
    "def get_articles(city:str)->list:\n",
    "    \"\"\" Read article file and return the article text    \"\"\"\n",
    "    with open('./articles/'+city+'.txt') as f:\n",
    "        lines =''.join( f.readlines())\n",
    "    lines = [line for line in lines.split(SEPARATOR) if line]\n",
    "    return lines\n",
    "\n",
    "# def analyze_articles(city):\n",
    "#     lines = get_articles(city)\n",
    "#     print(len(lines))\n",
    "\n",
    "# for i in range(len(CITIES)):\n",
    "#     analyze_articles(CITIES[i])"
   ]
  },
  {
   "cell_type": "markdown",
   "metadata": {},
   "source": [
    "#### Polarity"
   ]
  },
  {
   "cell_type": "code",
   "execution_count": 46,
   "metadata": {
    "collapsed": true
   },
   "outputs": [],
   "source": [
    "from nltk.tokenize import sent_tokenize\n",
    "from nltk.sentiment import SentimentIntensityAnalyzer"
   ]
  },
  {
   "cell_type": "code",
   "execution_count": 47,
   "metadata": {
    "collapsed": true
   },
   "outputs": [],
   "source": [
    "analyser = SentimentIntensityAnalyzer()"
   ]
  },
  {
   "cell_type": "code",
   "execution_count": 48,
   "metadata": {},
   "outputs": [
    {
     "data": {
      "text/plain": [
       "-0.8473999999999999"
      ]
     },
     "execution_count": 48,
     "metadata": {},
     "output_type": "execute_result"
    }
   ],
   "source": [
    "def text_analyser(text:str)->float: \n",
    "    \"\"\" Return cummulative polarity for text \"\"\"\n",
    "    sentences = sent_tokenize(text)\n",
    "    cummulative_polarity = 0.0\n",
    "    for sent in sentences:\n",
    "        polarity = analyser.polarity_scores(sent)['compound']\n",
    "        cummulative_polarity += polarity\n",
    "    return cummulative_polarity\n",
    "text_analyser('It was pathetic. I did not like it')"
   ]
  },
  {
   "cell_type": "code",
   "execution_count": 49,
   "metadata": {
    "collapsed": true
   },
   "outputs": [],
   "source": [
    "import numpy as np"
   ]
  },
  {
   "cell_type": "code",
   "execution_count": 50,
   "metadata": {
    "collapsed": true
   },
   "outputs": [],
   "source": [
    "def polarity_variation(city:str):\n",
    "    \"\"\" Get polarity for all articles pertaining to a particular city    \"\"\"\n",
    "    articles = get_articles(city)\n",
    "    polarities = []\n",
    "    for article in articles:\n",
    "        polarities.append(text_analyser(article))\n",
    "    return polarities\n",
    "def polarity_analyser(polarities:list):\n",
    "    \"\"\" Get polarity matrix for polarity vector of all articles    \"\"\"\n",
    "    pol_array = np.array(polarities)\n",
    "    pos_polarity = [polarity for polarity in polarities if polarity>=0]\n",
    "    neg_polarity = [polarity for polarity in polarities if polarity<0]\n",
    "    max_pos_polarity = np.argmax(pol_array)\n",
    "    max_neg_polarity = np.argmin(pol_array)\n",
    "    return pos_polarity, neg_polarity, min(polarities), max_neg_polarity,max(polarities), max_pos_polarity\n",
    "\n",
    "def plot_variation(city,polarities):\n",
    "    \"\"\"   Plot polarities of articles  \"\"\"\n",
    "    link_df = get_link_df(city)\n",
    "    x_ticks = link_df.timestamp.values\n",
    "    plt.title('Polarity Variation %s '% city)\n",
    "    article_index = [i for i in range(len(polarities))]\n",
    "    plt.bar(article_index,polarities)\n",
    "#     plt.xticks(article_index, x_ticks) # not clearly visible in notebook\n",
    "    plt.show()\n",
    "\n"
   ]
  },
  {
   "cell_type": "code",
   "execution_count": 52,
   "metadata": {},
   "outputs": [
    {
     "name": "stdout",
     "output_type": "stream",
     "text": [
      "Populating the interactive namespace from numpy and matplotlib\n"
     ]
    }
   ],
   "source": [
    "%pylab inline\n",
    "pylab.rcParams['figure.figsize'] = (5, 3)"
   ]
  },
  {
   "cell_type": "markdown",
   "metadata": {},
   "source": [
    "### View Polarity of articles in different cities"
   ]
  },
  {
   "cell_type": "code",
   "execution_count": 53,
   "metadata": {},
   "outputs": [
    {
     "data": {
      "image/png": "[encoded data removed]",
      "text/plain": [
       "<matplotlib.figure.Figure at 0x7f54e10a1f60>"
      ]
     },
     "metadata": {},
     "output_type": "display_data"
    },
    {
     "data": {
      "image/png": "[encoded data removed]",
      "text/plain": [
       "<matplotlib.figure.Figure at 0x7f54e171a898>"
      ]
     },
     "metadata": {},
     "output_type": "display_data"
    },
    {
     "data": {
      "image/png": "[encoded data removed]",
      "text/plain": [
       "<matplotlib.figure.Figure at 0x7f54fa97eac8>"
      ]
     },
     "metadata": {},
     "output_type": "display_data"
    },
    {
     "data": {
      "image/png": "[encoded data removed]",
      "text/plain": [
       "<matplotlib.figure.Figure at 0x7f54e1568e48>"
      ]
     },
     "metadata": {},
     "output_type": "display_data"
    },
    {
     "data": {
      "image/png": "[encoded data removed]",
      "text/plain": [
       "<matplotlib.figure.Figure at 0x7f54e1ca9f98>"
      ]
     },
     "metadata": {},
     "output_type": "display_data"
    }
   ],
   "source": [
    "for i in range(len(CITIES)):\n",
    "    polarities = polarity_variation(CITIES[i])\n",
    "    \n",
    "    plot_variation(CITIES[i], polarities)"
   ]
  },
  {
   "cell_type": "code",
   "execution_count": 54,
   "metadata": {
    "collapsed": true
   },
   "outputs": [],
   "source": [
    "\"\"\"\n",
    "    For all the cities for perform the following\n",
    "        1. Find article polarity metrics for a city \n",
    "        2. Find the positive and negative articles and find the features\n",
    "        3. Calculate polarity averages for each city\n",
    "\"\"\"\n",
    "\n",
    "negative_keys = []\n",
    "positive_keys = []\n",
    "avg_pos_polarity = []\n",
    "avg_neg_polarity = []\n",
    "for i in range(len(CITIES)):\n",
    "    \n",
    "    tfidf = TfidfVectorizer(max_features=20, stop_words=ENGLISH_STOP_WORDS)\n",
    "    \n",
    "    polarities = polarity_variation(CITIES[i])\n",
    "    pos, neg , min_val, min_index, max_val, max_index = polarity_analyser(polarities)\n",
    "    articles = get_articles(CITIES[i])\n",
    "    \n",
    "    pos_indices = [i for i in range(len(polarities)) if polarities[i]>=0]\n",
    "    neg_indices = [i for i in range(len(polarities)) if polarities[i]<0]\n",
    "    neg_articles = []\n",
    "    pos_articles = []\n",
    "    \n",
    "    for  i in neg_indices:\n",
    "        neg_articles.append(articles[i])\n",
    "    \n",
    "    for i in pos_indices:\n",
    "        pos_articles.append(articles[i])\n",
    "    \n",
    "    vectorized = tfidf.fit(neg_articles)\n",
    "#     print('Keywords in most negative:' , vectorized.get_feature_names())\n",
    "    negative_keys.append(vectorized.get_feature_names())\n",
    "\n",
    "    vectorized = tfidf.fit(pos_articles)\n",
    "#     print('Keywords in post positive', vectorized.get_feature_names())\n",
    "    positive_keys.append(vectorized.get_feature_names())\n",
    "\n",
    "    avg_pos_polarity.append(np.average(pos))\n",
    "    avg_neg_polarity.append(np.average(neg))"
   ]
  },
  {
   "cell_type": "code",
   "execution_count": 55,
   "metadata": {},
   "outputs": [
    {
     "name": "stdout",
     "output_type": "stream",
     "text": [
      "Populating the interactive namespace from numpy and matplotlib\n"
     ]
    }
   ],
   "source": [
    "%pylab inline\n",
    "pylab.rcParams['figure.figsize'] = (10, 5)"
   ]
  },
  {
   "cell_type": "markdown",
   "metadata": {},
   "source": [
    "##### Visualise the average positive and negative polarity "
   ]
  },
  {
   "cell_type": "code",
   "execution_count": 56,
   "metadata": {},
   "outputs": [
    {
     "data": {
      "image/png": "[encoded data removed]",
      "text/plain": [
       "<matplotlib.figure.Figure at 0x7f54e19ca160>"
      ]
     },
     "metadata": {},
     "output_type": "display_data"
    }
   ],
   "source": [
    "x_ticks =[city.split('-')[0] for city in CITIES]\n",
    "\n",
    "city_index = [i for i in range(len(CITIES))]\n",
    "plt.title('Average')\n",
    "plt.xticks(city_index, x_ticks)\n",
    "pos_patch = mpatches.Patch(color='red', label='+ve average')\n",
    "neg_patch = mpatches.Patch(color='blue', label='-ve average')\n",
    "plt.legend(handles=[pos_patch, neg_patch])\n",
    "plt.bar(city_index, avg_pos_polarity)\n",
    "plt.bar(city_index, avg_neg_polarity , color='b')\n",
    "plt.xlabel('City')\n",
    "plt.ylabel('Avg  polarity')\n",
    "plt.show()"
   ]
  },
  {
   "cell_type": "markdown",
   "metadata": {},
   "source": [
    "#### Find Frequency Distribution for the most important features in positive and negative articles cumulatively"
   ]
  },
  {
   "cell_type": "code",
   "execution_count": 57,
   "metadata": {
    "collapsed": true
   },
   "outputs": [],
   "source": [
    "neg_flattened = []\n",
    "for part in negative_keys:\n",
    "    for word in part:\n",
    "        neg_flattened.append(word)\n",
    "neg_freq =  {}\n",
    "for word in neg_flattened:\n",
    "    if word not in neg_freq:\n",
    "        neg_freq[word] = 1\n",
    "    else:\n",
    "        neg_freq[word] += 1\n",
    "pos_flattened = []\n",
    "for part in positive_keys:\n",
    "    for word in part:\n",
    "        pos_flattened.append(word)\n",
    "pos_freq =  {}\n",
    "for word in pos_flattened:\n",
    "    if word not in pos_freq:\n",
    "        pos_freq[word] = 1\n",
    "    else:\n",
    "        pos_freq[word] += 1"
   ]
  },
  {
   "cell_type": "code",
   "execution_count": 61,
   "metadata": {
    "collapsed": true
   },
   "outputs": [],
   "source": [
    "import nltk\n",
    "from nltk import FreqDist"
   ]
  },
  {
   "cell_type": "code",
   "execution_count": 62,
   "metadata": {},
   "outputs": [],
   "source": [
    "tagged = nltk.tag.pos_tag(pos_flattened)\n",
    "# print(tagged)\n",
    "pos_filtered = [tag[0] for tag in tagged if tag[1][0]=='N']\n",
    "tagged = nltk.tag.pos_tag(neg_flattened)\n",
    "# print(tagged)\n",
    "neg_filtered = [tag[0] for tag in tagged if tag[1][0]=='N']\n"
   ]
  },
  {
   "cell_type": "code",
   "execution_count": 63,
   "metadata": {},
   "outputs": [
    {
     "name": "stdout",
     "output_type": "stream",
     "text": [
      "Populating the interactive namespace from numpy and matplotlib\n"
     ]
    }
   ],
   "source": [
    "%pylab inline\n",
    "pylab.rcParams['figure.figsize'] = (15, 6)"
   ]
  },
  {
   "cell_type": "code",
   "execution_count": 64,
   "metadata": {},
   "outputs": [
    {
     "data": {
      "image/png": "[encoded data removed]",
      "text/plain": [
       "<matplotlib.figure.Figure at 0x7f54e1cae978>"
      ]
     },
     "metadata": {},
     "output_type": "display_data"
    }
   ],
   "source": [
    "neg_dist = FreqDist(neg_filtered)\n",
    "neg_dist.plot(title='negative')"
   ]
  },
  {
   "cell_type": "code",
   "execution_count": 65,
   "metadata": {},
   "outputs": [
    {
     "data": {
      "image/png": "[encoded data removed]",
      "text/plain": [
       "<matplotlib.figure.Figure at 0x7f54e1a89358>"
      ]
     },
     "metadata": {},
     "output_type": "display_data"
    }
   ],
   "source": [
    "pos_fdist = FreqDist(pos_filtered)\n",
    "pos_fdist.plot(title='positive')"
   ]
  },
  {
   "cell_type": "code",
   "execution_count": 66,
   "metadata": {},
   "outputs": [
    {
     "name": "stdout",
     "output_type": "stream",
     "text": [
      "Populating the interactive namespace from numpy and matplotlib\n"
     ]
    }
   ],
   "source": [
    "%pylab inline\n",
    "pylab.rcParams['figure.figsize'] = (10, 4)"
   ]
  },
  {
   "cell_type": "code",
   "execution_count": null,
   "metadata": {
    "collapsed": true
   },
   "outputs": [],
   "source": []
  },
  {
   "cell_type": "code",
   "execution_count": 67,
   "metadata": {},
   "outputs": [
    {
     "data": {
      "image/png": "[encoded data removed]",
      "text/plain": [
       "<matplotlib.figure.Figure at 0x7f54e17d8f60>"
      ]
     },
     "metadata": {},
     "output_type": "display_data"
    },
    {
     "data": {
      "image/png": "[encoded data removed]",
      "text/plain": [
       "<matplotlib.figure.Figure at 0x7f54d9b5edd8>"
      ]
     },
     "metadata": {},
     "output_type": "display_data"
    },
    {
     "data": {
      "image/png": "[encoded data removed]",
      "text/plain": [
       "<matplotlib.figure.Figure at 0x7f5528986fd0>"
      ]
     },
     "metadata": {},
     "output_type": "display_data"
    },
    {
     "data": {
      "image/png": "[encoded data removed]",
      "text/plain": [
       "<matplotlib.figure.Figure at 0x7f54e1969a58>"
      ]
     },
     "metadata": {},
     "output_type": "display_data"
    },
    {
     "data": {
      "image/png": "[encoded data removed]",
      "text/plain": [
       "<matplotlib.figure.Figure at 0x7f54e17e6080>"
      ]
     },
     "metadata": {},
     "output_type": "display_data"
    }
   ],
   "source": [
    "\"\"\"\n",
    "    Different cities are at a different focal point\n",
    "    thus the number of news generated within the given timespan \n",
    "    varies from city to city \n",
    "\"\"\"\n",
    "df_list = []\n",
    "for city in CITIES:\n",
    "    articles = pd.DataFrame(get_articles(city), columns=['article'])\n",
    "    links_df = get_link_df(city)\n",
    "    df = pd.concat([links_df,articles], axis=1)\n",
    "    compound_polarity = []\n",
    "    for i in range(len(df)):\n",
    "        polarity = text_analyser(df.iloc[i]['article'])\n",
    "        compound_polarity.append(polarity)\n",
    "\n",
    "    df = pd.concat([df,pd.DataFrame(compound_polarity, columns=['polarity'])], axis=1)\n",
    "    \n",
    "    filtered_dt = []\n",
    "    for value in df['timestamp'].values:\n",
    "        filtered_dt.append(value.split(',')[0])\n",
    "    df = pd.concat([df, pd.DataFrame(filtered_dt, columns=['dt'])], axis=1)\n",
    "    val = df.groupby(['dt']).sum()\n",
    "    df_list.append(df)\n",
    "    \n",
    "    val = val.drop(['index'], axis=1)\n",
    "#     print(val)\n",
    "#     print(val.columns)\n",
    "    x_ticks = val.index.values\n",
    "#     print(x_ticks)\n",
    "    x = [i for  i in range(len(val))]\n",
    "    plt.figure(figsize=(len(x_ticks), 3))\n",
    "    plt.bar(x, val['polarity'])\n",
    "    plt.xticks(x, x_ticks)\n",
    "    plt.title('Day vs Polarity for %s' % city)\n",
    "    plt.xlabel('Date')\n",
    "    plt.ylabel('Cummulative Polarity')\n",
    "    plt.show()"
   ]
  }
 ],
 "metadata": {
  "kernelspec": {
   "display_name": "Python 3",
   "language": "python",
   "name": "python3"
  },
  "language_info": {
   "codemirror_mode": {
    "name": "ipython",
    "version": 3
   },
   "file_extension": ".py",
   "mimetype": "text/x-python",
   "name": "python",
   "nbconvert_exporter": "python",
   "pygments_lexer": "ipython3",
   "version": "3.6.1"
  }
 },
 "nbformat": 4,
 "nbformat_minor": 2
}
